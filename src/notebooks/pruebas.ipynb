{
 "cells": [
  {
   "cell_type": "code",
   "execution_count": 1,
   "id": "76586fc8",
   "metadata": {},
   "outputs": [],
   "source": [
    "# Importación de la librerías necesarias\n",
    "import numpy as np\n",
    "import pandas as pd\n",
    "import matplotlib.pyplot as plt\n",
    "import seaborn as sns\n",
    "import plotly.graph_objects as go \n",
    "import warnings\n",
    "warnings.filterwarnings(\"ignore\")   # Restringir la aparicion de warnings"
   ]
  },
  {
   "cell_type": "code",
   "execution_count": 5,
   "id": "378be717",
   "metadata": {},
   "outputs": [
    {
     "ename": "SyntaxError",
     "evalue": "(unicode error) 'unicodeescape' codec can't decode bytes in position 2-3: truncated \\UXXXXXXXX escape (23543207.py, line 4)",
     "output_type": "error",
     "traceback": [
      "  \u001b[36mCell\u001b[39m\u001b[36m \u001b[39m\u001b[32mIn[5]\u001b[39m\u001b[32m, line 4\u001b[39m\n\u001b[31m    \u001b[39m\u001b[31mdf_mercadona_raw = pd.read_csv(\"C:\\Users\\Alvaro\\Documents\\GitHub\\EDA_supermercados\\data\\Raw_Data\\Mercadona\\mercadona_raw.csv\")\u001b[39m\n                                                                                                                                 ^\n\u001b[31mSyntaxError\u001b[39m\u001b[31m:\u001b[39m (unicode error) 'unicodeescape' codec can't decode bytes in position 2-3: truncated \\UXXXXXXXX escape\n"
     ]
    }
   ],
   "source": [
    "# Importar los datasets bajo el nombre df_supermercado_raw\n",
    "\n",
    "# Datasets Mercadona\n",
    "df_mercadona_raw = pd.read_csv(\"C:\\Users\\Alvaro\\Documents\\GitHub\\EDA_supermercados\\data\\Raw_Data\\Mercadona\\mercadona_raw.csv\")\n",
    "df_mercadona_raw_2 = pd.read_csv(\"C:\\Users\\Alvaro\\Documents\\GitHub\\EDA_supermercados\\data\\Raw_Data\\Mercadona\\products_macro_mercadona.csv\")\n",
    "df_mercadona_categorias = pd.read_csv(\"C:\\Users\\Alvaro\\Documents\\GitHub\\EDA_supermercados\\data\\Raw_Data\\Mercadona\\mercadona_categorias_grupos.csv\")\n",
    "\n",
    "# Dataset Consum\n",
    "df_consum_raw = pd.read_csv(\"C:\\Users\\Alvaro\\Documents\\GitHub\\EDA_supermercados\\data\\Raw_Data\\Consum\\consum_raw.csv\")\n",
    "\n",
    "# Dataset Carrefour\n",
    "df_carrefour_raw = pd.read_csv(\"C:\\Users\\Alvaro\\Documents\\GitHub\\EDA_supermercados\\data\\Raw_Data\\Carrefour\\carrefour_raw.csv\")\n"
   ]
  }
 ],
 "metadata": {
  "kernelspec": {
   "display_name": "Python 3",
   "language": "python",
   "name": "python3"
  },
  "language_info": {
   "codemirror_mode": {
    "name": "ipython",
    "version": 3
   },
   "file_extension": ".py",
   "mimetype": "text/x-python",
   "name": "python",
   "nbconvert_exporter": "python",
   "pygments_lexer": "ipython3",
   "version": "3.11.9"
  }
 },
 "nbformat": 4,
 "nbformat_minor": 5
}
